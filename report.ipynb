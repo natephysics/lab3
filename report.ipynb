{
 "cells": [
  {
   "cell_type": "markdown",
   "metadata": {},
   "source": [
    "<img src=\"images/unilogo.png\" style=\"width: 200px;\">\n",
    "\n",
    "Paul Trap\n",
    "===============================================\n",
    "Authored by: [Nathan Belmore](https://plasma.physics.berkeley.edu/faculty-staff/nathan-belmore) \n",
    "In partnership with Tobias Tubandt\n",
    "\n",
    "Published: 30.11.2018\n",
    "\n",
    "\n",
    "# Abstract\n",
    "***\n",
    "In this experiment, we examined the mass of ion clouds confined in a paul trap. We determine the mass of the ion species through 3 methods. First, we look at time of flight duing extraction. Second, we excite the ion clouds using an additional drive frequency. When the approaching the resonant frequency of a given ion species the ions will be driven out of confinment. Lastly, we sweep the amplitude of the confinement field. Since the stability of confinement is also dependent on mass, over the sweep, lighter particles will be driven out of confinement first.  \n",
    "\n",
    "# Physical Principles\n",
    "***\n",
    "To contain a cloud of ions we'll need a force that creates something akin to a 3D harmonic potential, i.e. $F = -k\\vec{r}$ where $k$ is a positive constant. Since the electric field is proportional to the force we can expect the potential to take the form\n",
    "\n",
    "$$\\Phi \\propto \\alpha x^2 + \\beta y^2 + \\gamma z^2$$\n",
    "\n",
    "Enforcing the condition $\\Delta \\Phi = 0$ we get that $\\alpha + \\beta + \\gamma = 0$, which has multipule solutions. However, we can pick the canonical choice of $\\alpha = \\beta$, and $\\gamma = -2 \\alpha$. This results in:\n",
    "\n",
    "$$\\Phi(x,y,z) = \\frac{\\Phi_0}{\\gamma} (x^2 + y^2 - 2 z^2)$$\n",
    "\n",
    "Where $\\frac{\\Phi_0}{\\gamma}$ acts as our proportionality constant. This results in a hpyerbolic potential structure. We can apply this to the traditioal paul trap design and shift rewrite the prefactor in terms of the geometery of the trap. \n",
    "\n",
    "| <img src=\"images/trap.png\" style=\"width: 400px;\">|\n",
    "|----------------------------------------------------------------------------|\n",
    "| Fig. 1 Generic 3D paul trap design. [1] |\n",
    "\n",
    "We can define $d_0 = \\frac{r_0^2}{2} + z_0$ and $\\gamma = 2 d_0$. In an ideal paul trap we can decompose the applied field into $U_0$ and $V_0 \\cdot cos(\\Omega t)$, a constant and time dependent field. Inserting this expression for $\\Phi_0$ we get the following: \n",
    "\n",
    "$$\\Phi(x,y,z) = \\frac{U_0 + V_0 \\cdot \\cos(\\Omega t)}{2 d_0} (x^2 + y^2 - 2 z^2)$$\n",
    "\n",
    "Solving for the cylindrical EOM:\n",
    "\n",
    "$$\\ddot{r} + \\frac{e}{m 2d_0^2}(U - V cos(\\omega t))r = 0$$\n",
    "\n",
    "$$\\ddot{z} + \\frac{e}{m 2d_0^2}(U - V cos(\\omega t))z = 0$$\n",
    "\n",
    "Using the following substitutions $a_z = -2 a_r = -\\frac{4eU}{m d_0^2 \\Omega^2}$, $q_z = -2 q_r = -\\frac{4eV}{m d_0^2 \\Omega^2}$, and $\\tau = \\frac{1}{2} \\Omega t$ give us:\n",
    "\n",
    "$$0 = $$\n",
    "\n",
    "$$\\frac{d^2 r}{d \\tau^2} + (a_r - 2 q_r cos(2 \\tau))r = 0$$\n",
    "\n",
    "$$\\frac{d^2 z}{d \\tau^2} + (a_z - 2 q_z cos(2 \\tau))z = 0$$\n",
    "\n",
    "The solution of which has stable and unstable regions. This is a named problem know as Mathieu’s equation. The stable solutions form a manifold in $a$ $q$ space, which represents the solutions that produce stable confinment. \n",
    "\n",
    "| <img src=\"images/stability.png\" style=\"width: 600px;\">|\n",
    "|----------------------------------------------------------------------------|\n",
    "| Fig. 2 Mathieu Stability Diagram for Nitrogen |\n",
    "\n",
    "\n",
    "## Execution and Setup\n",
    "***\n",
    "### Setup\n",
    "We used a 3D hyperbolical Paul trap, the geometery of which can be found in Fig. 3. In the experiement we use 2 end caps as electrodes and a ring electrode to induce the wanted potential. We apply a trapping RF field using a function generator that is amplifed. There is a second function generator for applying an additional field on top of the trapping field. \n",
    "\n",
    "In fig. 3 is the schematic of a Paul trap. The space in which the ions can move, can be described as a cylinder with hyperbolic borders. We use a vacuum chamber and an electrode gun to ionize the atoms and molecules in the chamber. To get an actual measurement the ions are lead through a channeltron to get a signal. Through the different fly times of the ions different masses can be measured.\n",
    "\n",
    "| <img src=\"images/diagram.png\" style=\"width: 600px;\">|\n",
    "|----------------------------------------------------------------------------|\n",
    "| Fig. 3 Diagram of the Paul trap |"
   ]
  },
  {
   "cell_type": "markdown",
   "metadata": {},
   "source": [
    "# Analysis\n",
    "***\n",
    "\n"
   ]
  },
  {
   "cell_type": "code",
   "execution_count": 1,
   "metadata": {},
   "outputs": [],
   "source": [
    "# creating the correct enviroment for analysis\n",
    "import os\n",
    "import numpy as np\n",
    "import pandas as pd\n",
    "import scipy.constants as c\n",
    "from scipy.optimize import curve_fit\n",
    "from bqplot import pyplot as plt\n",
    "from bqplot import *\n",
    "from bqplot.interacts import BrushIntervalSelector\n",
    "from ipywidgets import ToggleButtons, VBox, HTML"
   ]
  },
  {
   "cell_type": "markdown",
   "metadata": {},
   "source": [
    "## Importing the data\n",
    "\n",
    "Some of the data sets contain multipule itterations, which are summed over to improve the statistics. "
   ]
  },
  {
   "cell_type": "code",
   "execution_count": 2,
   "metadata": {},
   "outputs": [
    {
     "name": "stdout",
     "output_type": "stream",
     "text": [
      "data/10\n",
      "data/11\n",
      "data/12\n",
      "data/5\n",
      "data/6\n",
      "data/7\n",
      "data/8\n",
      "data/9\n"
     ]
    }
   ],
   "source": [
    "# path to the data set\n",
    "path = 'data/'\n",
    "\n",
    "# setup to scan just the first level of folders in the data set\n",
    "# first step is to produce a list of the folders that contain each data set\n",
    "folders = next( os.walk(path) )[1]\n",
    "\n",
    "# sorting them to control the order\n",
    "folders.sort() \n",
    "\n",
    "# some data structure for genetrating a list of the files. \n",
    "files = [[],[],[],[],[],[],[],[]]\n",
    "list = []\n",
    "\n",
    "\n",
    "# a loop to generate a list of files for each folder\n",
    "for i in range(0, len(folders)):\n",
    "    list.append(os.listdir(path + folders[i]))\n",
    "    print(path + folders[i])\n",
    "    for file in list[i]:\n",
    "        if file.endswith(\".dat\"):\n",
    "            files[i].append(os.path.join(path + folders[i], file))\n",
    "    files[i].sort()\n",
    "\n",
    "    \n",
    "# importing the data in a pandas dataframe\n",
    "\n",
    "# data set 5    \n",
    "df_list = [pd.read_table(file, usecols=[1]) for file in files[3]]\n",
    "data5 = pd.concat(df_list, axis=1, ignore_index=True)\n",
    "\n",
    "# data set 9\n",
    "df_list = [pd.read_table(file, usecols=[1]) for file in files[7]]\n",
    "data9 = pd.concat(df_list, axis=1, ignore_index=True)\n",
    "# number of data points\n",
    "n = 89 \n",
    "# summing multiple iterations\n",
    "data9 = pd.concat([data9[data9.columns[0+i:-1:n]].sum(axis=1) for i in range(n+1)], axis=1)\n",
    "    \n",
    "# data set 12    \n",
    "df_list = [pd.read_table(file, usecols=[1]) for file in files[2]]\n",
    "data12 = pd.concat(df_list, axis=1, ignore_index=True)\n",
    "# number of data points\n",
    "n = 499 \n",
    "# summing multiple iterations\n",
    "data12 = pd.concat([data12[data12.columns[0+i:-1:n]].sum(axis=1) for i in range(n+1)], axis=1)\n",
    "\n",
    "\n",
    "\n",
    "# Code for importing other data sets, but we don't use them so it makes no sense to import them. \n",
    "\n",
    "# df_list = [pd.read_table(file, usecols=[1]) for file in files[0]]\n",
    "# data10 = pd.concat(df_list, axis=1, ignore_index=True)\n",
    "\n",
    "# df_list = [pd.read_table(file, usecols=[1]) for file in files[1]]\n",
    "# data11 = pd.concat(df_list, axis=1, ignore_index=True)\n",
    "\n",
    "# df_list = [pd.read_table(file, usecols=[1]) for file in files[4]]\n",
    "# data6 = pd.concat(df_list, axis=1, ignore_index=True)\n",
    "\n",
    "# df_list = [pd.read_table(file, usecols=[1]) for file in files[5]]\n",
    "# data7 = pd.concat(df_list, axis=1, ignore_index=True)\n",
    "\n",
    "# df_list = [pd.read_table(file, usecols=[1]) for file in files[6]]\n",
    "# data8 = pd.concat(df_list, axis=1, ignore_index=True)"
   ]
  },
  {
   "cell_type": "markdown",
   "metadata": {},
   "source": [
    "### Dataset 5\n",
    "\n",
    "For this dataset, we applied a driving field of $430 khz$ with an amplitude of $14.6V$. We scanned over an externally applied frequency which was varied from $10khz - 500khz$ in $500hz$ steps. \n",
    "\n",
    "We applied the external field to drive oscillations in the trapped particles. If the particles are resonant with the drive frequency, we might expect to see the particles driven out of confinement. Since we expect this trap configuration to have several species of particles, there will likely be several peaks with distinct resonant frequencies. \n",
    "\n",
    "We'll start with a simple approach. Sum all the data points in each data set and plot it as a function of the data set. Since the data sets are divided by applied frequency, we get a plot of Applied Frequency vs. Integrated Counts. "
   ]
  },
  {
   "cell_type": "code",
   "execution_count": 32,
   "metadata": {},
   "outputs": [
    {
     "data": {
      "application/vnd.jupyter.widget-view+json": {
       "model_id": "517a02be27234baa918ad1b709a22271",
       "version_major": 2,
       "version_minor": 0
      },
      "text/plain": [
       "VBox(children=(Figure(axes=[Axis(label='Applied frequency (khz)', scale=LinearScale()), Axis(label='Total coun…"
      ]
     },
     "metadata": {},
     "output_type": "display_data"
    }
   ],
   "source": [
    "row, col = data5.shape\n",
    "\n",
    "# sum each data set\n",
    "y = [data5[i].sum() for i in range(0,col)]\n",
    "# generating the x-axis, 10khz - 500khz with the number of steps = col\n",
    "x = np.linspace(10,500,col)\n",
    "\n",
    "# splot the results\n",
    "fig=plt.figure()\n",
    "line = plt.plot(x, y, marker='circle', stroke_width=.5, opacities = [.5])\n",
    "fig.layout.height = '500px'\n",
    "fig.layout.width = '800px'\n",
    "plt.xlabel('Applied frequency (khz)')\n",
    "plt.ylabel('Total count at fixed applied frequency')\n",
    "plt.title('Applied frequency sweep')\n",
    "plt.show()"
   ]
  },
  {
   "cell_type": "markdown",
   "metadata": {},
   "source": [
    "As can be seen above, there is a lot of noise in the signal. We are also summing over all the species, so there exists multiple resonances overlapping in the data set. Instead of integrating over the whole dataset we can focus our integration region over a subset of the data that corresponds to the peaks, where we expect a significant change to do the applied frequency. Below we'll create a function for selecting subsets of the data."
   ]
  },
  {
   "cell_type": "code",
   "execution_count": 4,
   "metadata": {},
   "outputs": [],
   "source": [
    "# To speed up the analysis we'll create a fuction for selecting subsets of the data.\n",
    "\n",
    "def findminmax(values):\n",
    "    \"\"\"Returns an array of [min, max] of the values array\"\"\"\n",
    "    if values == []:\n",
    "        return [0, 0]\n",
    "    else:\n",
    "        return [np.min(values),np.max(values)]\n",
    "\n",
    "def selectPlot(x, y, color, xlabel, ylabel, title):\n",
    "    # The Mark we want to select subsamples of\n",
    "    scales = {'x': LinearScale(), 'y': LogScale()}\n",
    "    global scatter\n",
    "    scatter = Scatter(x=x, y=y, scales=scales, colors=[color],\n",
    "                      selected_style={'opacity': '1'}, unselected_style={'opacity': '0.2'})\n",
    "    # Create the brush selector, passing it its corresponding scale.\n",
    "    # Notice that we do not pass it any marks for now\n",
    "    brushintsel = BrushIntervalSelector(scale=scales['x'])\n",
    "\n",
    "    x_ax = Axis(label=xlabel, scale=scales['x'])\n",
    "    x_ay = Axis(label=ylabel, scale=scales['y'], orientation='vertical')\n",
    "    # Pass the Selector instance to the Figure\n",
    "    fig = Figure(marks=[scatter], axes=[x_ax, x_ay],\n",
    "                 title=title,\n",
    "                 interaction=brushintsel)\n",
    "\n",
    "    # The following text widgets are used to display the `selected` attributes\n",
    "    text_brush = HTML()\n",
    "    text_scatter = HTML()\n",
    "\n",
    "    # This function updates the text, triggered by a change in the selector\n",
    "    def update_scatter_text(*args):\n",
    "        \"\"\"Fuction used to update the text indicating the selected range\"\"\"\n",
    "        text_scatter.value = \"The scatter's selected indices are {} through {}\".format(findminmax(scatter.selected)[0], findminmax(scatter.selected)[1])\n",
    "    scatter.observe(update_scatter_text, 'selected')\n",
    "\n",
    "    update_scatter_text()\n",
    "\n",
    "    # Display\n",
    "    brushintsel.marks = [scatter]\n",
    "    return VBox([fig, text_brush, text_scatter])"
   ]
  },
  {
   "cell_type": "markdown",
   "metadata": {},
   "source": [
    "### Example of the peak analysis process\n",
    "\n",
    "The function integrates the data set as a function of the arrival times of each set. Looking at the results can give us a sense of where the particles peaks are located in the data sets and allow us to narrow the integration range. By selecting a range of values on the graph, we can pass the selected range to the next cell for analysis."
   ]
  },
  {
   "cell_type": "code",
   "execution_count": 25,
   "metadata": {},
   "outputs": [
    {
     "data": {
      "application/vnd.jupyter.widget-view+json": {
       "model_id": "aeef9d2b653d4323bd856f713a57818b",
       "version_major": 2,
       "version_minor": 0
      },
      "text/plain": [
       "VBox(children=(Figure(axes=[Axis(label='Arrival time (microseconds)', scale=LinearScale()), Axis(label='Intens…"
      ]
     },
     "metadata": {},
     "output_type": "display_data"
    }
   ],
   "source": [
    "y1 = data5[data5.columns[0:-1]][:300].sum(axis=1).values\n",
    "x1 = np.multiply(range(0,len(y1)),0.1)\n",
    "\n",
    "selectPlot(x1, y1, 'orange', 'Arrival time (microseconds)', 'Intensity (int. counts)', '''Integration Interval Selector. Click and drag on the Figure to select window.''')"
   ]
  },
  {
   "cell_type": "markdown",
   "metadata": {},
   "source": [
    "Now we can use that range to define the integration region and re-plot our first plot over the narrow region. Since I want to select a region to integrate over, I'll call the selectPlot function again on the new range. However, we are now integrating each data set over the interval of arrival times defined by the window above so that the output will be a function of applied drive frequency (like the first plot). "
   ]
  },
  {
   "cell_type": "code",
   "execution_count": 26,
   "metadata": {},
   "outputs": [
    {
     "name": "stdout",
     "output_type": "stream",
     "text": [
      "The range selected from above at the time of running the cell is : 88 to 96\n"
     ]
    },
    {
     "data": {
      "application/vnd.jupyter.widget-view+json": {
       "model_id": "73bee1602e0c4cd7b9e75edc57b711ae",
       "version_major": 2,
       "version_minor": 0
      },
      "text/plain": [
       "VBox(children=(Figure(axes=[Axis(label='Applied frequency (khz)', scale=LinearScale()), Axis(label='Total coun…"
      ]
     },
     "metadata": {},
     "output_type": "display_data"
    }
   ],
   "source": [
    "row, col = data5.shape\n",
    "indexrange = [np.min(scatter.selected), np.max(scatter.selected)]\n",
    "print('The range selected from above at the time of running the cell is : ' + str(indexrange[0]) + ' to ' + str(indexrange[1]))\n",
    "y2 = [data5[i][indexrange[0]:indexrange[1]].sum() for i in range(0,col)]\n",
    "x2 = np.linspace(10,500,col)\n",
    "\n",
    "selectPlot(x2, y2, 'blue', 'Applied frequency (khz)', 'Total count at fixed applied frequency', '''Applied frequency sweep''')"
   ]
  },
  {
   "cell_type": "markdown",
   "metadata": {},
   "source": [
    "Now we see a clear resonance peak around 100hz (compared to the first plot). We can fit the peak to get a sense of the peak value. At the same time we fit the arrival time peak to get the corresponding arrival time.  "
   ]
  },
  {
   "cell_type": "code",
   "execution_count": 27,
   "metadata": {},
   "outputs": [
    {
     "name": "stdout",
     "output_type": "stream",
     "text": [
      "The range selected from above at the time of running the cell is : 88 to 96\n"
     ]
    },
    {
     "data": {
      "application/vnd.jupyter.widget-view+json": {
       "model_id": "5f65a86f5b704ca69edfafad7b8903fc",
       "version_major": 2,
       "version_minor": 0
      },
      "text/plain": [
       "VBox(children=(Figure(axes=[Axis(label='Applied frequency (khz)', scale=LinearScale()), Axis(label='Total coun…"
      ]
     },
     "metadata": {},
     "output_type": "display_data"
    },
    {
     "name": "stdout",
     "output_type": "stream",
     "text": [
      "The fitted frequency peak is 100.6khz\n"
     ]
    },
    {
     "data": {
      "application/vnd.jupyter.widget-view+json": {
       "model_id": "2669867930ac413999c433e2205f3273",
       "version_major": 2,
       "version_minor": 0
      },
      "text/plain": [
       "VBox(children=(Figure(axes=[Axis(label='Time in microseconds', scale=LinearScale()), Axis(label='Total count a…"
      ]
     },
     "metadata": {},
     "output_type": "display_data"
    },
    {
     "name": "stdout",
     "output_type": "stream",
     "text": [
      "The corresponding mass peak is at 9.1992 microseconds\n"
     ]
    }
   ],
   "source": [
    "print('The range selected from above at the time of running the cell is : ' + str(indexrange[0]) + ' to ' + str(indexrange[1]))\n",
    "\n",
    "yfit = y2[np.min(scatter.selected):np.max(scatter.selected)]\n",
    "xfit = x2[np.min(scatter.selected):np.max(scatter.selected)]\n",
    "\n",
    "# Because of the noise on the data it'll be easier to fit a simple fuction.\n",
    "# This is fine since we are just looking for a center point of the peak.\n",
    "def function(x, x0, a, b):\n",
    "    return a*(x-x0)**2+b\n",
    "\n",
    "# Fitting and plotting the results\n",
    "popt1, pcov = curve_fit(function, xfit, yfit)\n",
    "\n",
    "fig = plt.figure()\n",
    "fig.layout.height = '500px'\n",
    "fig.layout.width = '800px'\n",
    "fit = plt.plot(x2, y2, marker='circle', stroke_width=.5, opacities = [.5])\n",
    "fit = plt.plot(xfit, function(xfit, *popt1), colors=['green'])\n",
    "plt.xlabel('Applied frequency (khz)')\n",
    "plt.ylabel('Total count at fixed applied frequency')\n",
    "plt.title('Applied frequency sweep')\n",
    "plt.show()\n",
    "\n",
    "print(\"The fitted frequency peak is {:5.5}khz\".format(popt1[0]))\n",
    "\n",
    "\n",
    "# I also want to get the corosponding peak value of the applied frequency\n",
    "yfit2 = y1[indexrange[0]:indexrange[1]]\n",
    "xfit2 = x1[indexrange[0]:indexrange[1]]\n",
    "\n",
    "# Fitting and plotting the results\n",
    "p0 = [np.mean(xfit2), -1, np.max(xfit2)]\n",
    "popt1, pcov = curve_fit(function, xfit2, yfit2, p0 = p0)\n",
    "fig = plt.figure()\n",
    "fig.layout.height = '500px'\n",
    "fig.layout.width = '800px'\n",
    "# fit = plt.plot(xfit2, yfit2, marker='circle', colors=['orange'], stroke_width=.5, opacities = [.5])\n",
    "fit = plt.plot(x1[20:250], y1[20:250], marker='circle', colors=['orange'], stroke_width=.5, opacities = [.5])\n",
    "fit = plt.plot(xfit2, function(xfit2, *popt1), colors=['green'])\n",
    "plt.xlabel('Time in microseconds')\n",
    "plt.ylabel('Total count at fixed applied frequency')\n",
    "plt.title('Applied frequency sweep')\n",
    "plt.show()\n",
    "\n",
    "print(\"The corresponding mass peak is at {:5.5} microseconds\".format(popt1[0]))"
   ]
  },
  {
   "cell_type": "markdown",
   "metadata": {},
   "source": [
    "Repeating the process with the other peaks in the data set 5 provides the results in:"
   ]
  },
  {
   "cell_type": "markdown",
   "metadata": {},
   "source": [
    "## Other peaks\n",
    "\n",
    "We repeated the above process to produce the data for the 2 addtional peaks.\n",
    "\n",
    "| Peaks  | $\\omega$ (khz) | $\\mu$ s |\n",
    "|--------|----------|---------|\n",
    "| Peak 1 | 100.6    | 9.21   |\n",
    "| Peak 2 | 72.6     | 10.45  |\n",
    "| Peak 3 | 47.5     | 12.41  |\n",
    "\n",
    "\n",
    "| <img src=\"images/10mus.png\" style=\"width: 600px;\">|\n",
    "|----------------------------------------------------------------------------|\n",
    "| Fig. 4  Second peak fit (10.45 $\\mu$ s) |\n",
    "\n",
    "| <img src=\"images/71khz.png\" style=\"width: 600px;\">|\n",
    "|----------------------------------------------------------------------------|\n",
    "| Fig. 5  Second peak fit (72.6 khz) |\n",
    "\n",
    "\n",
    "| <img src=\"images/12mus.png\" style=\"width: 600px;\">|\n",
    "|----------------------------------------------------------------------------|\n",
    "| Fig. 6  Third peak fit (12.41 $\\mu$ s) |\n",
    "\n",
    "| <img src=\"images/45khz.png\" style=\"width: 600px;\">|\n",
    "|----------------------------------------------------------------------------|\n",
    "| Fig. 7  Third peak fit (47.5 khz) |"
   ]
  },
  {
   "cell_type": "markdown",
   "metadata": {},
   "source": [
    "As expected, the particles with higher arrival times have lower resonance frequencies (larger mass). \n",
    "\n",
    "### Dataset 12\n",
    "\n",
    "Dataset 12 is similar to dataset 5 but the trapping was optimized for a single species. We expect one strong signal compared to the many weak signals in dataset 5. "
   ]
  },
  {
   "cell_type": "code",
   "execution_count": 28,
   "metadata": {},
   "outputs": [
    {
     "data": {
      "application/vnd.jupyter.widget-view+json": {
       "model_id": "54d4488018db46f489b9f7dec26dc330",
       "version_major": 2,
       "version_minor": 0
      },
      "text/plain": [
       "VBox(children=(Figure(axes=[Axis(label='Arrival time (nanooseconds)', scale=LinearScale()), Axis(label='Intens…"
      ]
     },
     "metadata": {},
     "output_type": "display_data"
    }
   ],
   "source": [
    "y1 = data12[data12.columns[0:-1]][:300].sum(axis=1).values\n",
    "x1 = np.multiply(range(0,len(y1)),0.1)\n",
    "\n",
    "selectPlot(x1, y1, 'orange', 'Arrival time (nanooseconds)', 'Intensity (int. counts)', '''Integration Interval Selector. Click and drag on the Figure to select window.''')"
   ]
  },
  {
   "cell_type": "code",
   "execution_count": 29,
   "metadata": {},
   "outputs": [
    {
     "name": "stdout",
     "output_type": "stream",
     "text": [
      "The range selected from above at the time of running the cell is : 66 to 89\n"
     ]
    },
    {
     "data": {
      "application/vnd.jupyter.widget-view+json": {
       "model_id": "f3a3420065d54abe9d53f52c278af030",
       "version_major": 2,
       "version_minor": 0
      },
      "text/plain": [
       "VBox(children=(Figure(axes=[Axis(label='Applied frequency (khz)', scale=LinearScale()), Axis(label='Total coun…"
      ]
     },
     "metadata": {},
     "output_type": "display_data"
    }
   ],
   "source": [
    "indexrange = [np.min(scatter.selected), np.max(scatter.selected)]\n",
    "\n",
    "print('The range selected from above at the time of running the cell is : ' + str(indexrange[0]) + ' to ' + str(indexrange[1]))\n",
    "row, col = data12.shape\n",
    "y2 = [data12[i][indexrange[0]:indexrange[1]].sum() for i in range(0,col)]\n",
    "x2 = range(0,499)\n",
    "\n",
    "selectPlot(x2, y2, 'blue', 'Applied frequency (khz)', 'Total count at fixed applied frequency', '''Applied frequency sweep''')"
   ]
  },
  {
   "cell_type": "code",
   "execution_count": 30,
   "metadata": {},
   "outputs": [
    {
     "name": "stdout",
     "output_type": "stream",
     "text": [
      "The range selected from above at the time of running the cell is : 66 to 89\n"
     ]
    },
    {
     "data": {
      "application/vnd.jupyter.widget-view+json": {
       "model_id": "e14e2760543f422da9836fbcdbe69bfe",
       "version_major": 2,
       "version_minor": 0
      },
      "text/plain": [
       "VBox(children=(Figure(axes=[Axis(label='Applied frequency (khz)', scale=LinearScale()), Axis(label='Total coun…"
      ]
     },
     "metadata": {},
     "output_type": "display_data"
    },
    {
     "name": "stdout",
     "output_type": "stream",
     "text": [
      "The fitted frequency peak is 119.31khz\n"
     ]
    },
    {
     "data": {
      "application/vnd.jupyter.widget-view+json": {
       "model_id": "9aa1ac8fc39a44ef98bff3e3d02f3586",
       "version_major": 2,
       "version_minor": 0
      },
      "text/plain": [
       "VBox(children=(Figure(axes=[Axis(label='Arrival time (microseconds)', scale=LinearScale()), Axis(label='Total …"
      ]
     },
     "metadata": {},
     "output_type": "display_data"
    },
    {
     "name": "stdout",
     "output_type": "stream",
     "text": [
      "The corresponding mass peak is at 7.5885 microseconds\n"
     ]
    }
   ],
   "source": [
    "print('The range selected from above at the time of running the cell is : ' + str(indexrange[0]) + ' to ' + str(indexrange[1]))\n",
    "\n",
    "yfit = y2[np.min(scatter.selected):np.max(scatter.selected)]\n",
    "xfit = x2[np.min(scatter.selected):np.max(scatter.selected)]\n",
    "\n",
    "# Because of the noise on the data it'll be easier to fit a simple fuction.\n",
    "# This is fine since we are just looking for a center point of the peak.\n",
    "def function(x, x0, a, b):\n",
    "    return a*(x-x0)**2+b\n",
    "\n",
    "# Fitting and plotting the results\n",
    "p0 = [np.mean(xfit), 1, np.max(xfit)]\n",
    "popt1, pcov = curve_fit(function, xfit, yfit, p0 = p0)\n",
    "\n",
    "fig = plt.figure()\n",
    "fig.layout.height = '500px'\n",
    "fig.layout.width = '800px'\n",
    "fit = plt.plot(x2, y2, marker='circle', stroke_width=.5, opacities = [.5])\n",
    "fit = plt.plot(xfit, function(xfit, *popt1), colors=['green'])\n",
    "plt.xlabel('Applied frequency (khz)')\n",
    "plt.ylabel('Total count at fixed applied frequency')\n",
    "plt.title('Applied frequency sweep')\n",
    "plt.show()\n",
    "\n",
    "print(\"The fitted frequency peak is {:5.5}khz\".format(popt1[0]))\n",
    "\n",
    "\n",
    "# I also want to get the corosponding peak value of the applied frequency\n",
    "yfit2 = y1[indexrange[0]:indexrange[1]]\n",
    "xfit2 = x1[indexrange[0]:indexrange[1]]\n",
    "\n",
    "# Fitting and plotting the results\n",
    "p0 = [np.mean(xfit2), -1, np.max(xfit2)]\n",
    "popt1, pcov = curve_fit(function, xfit2, yfit2, p0 = p0)\n",
    "fig = plt.figure()\n",
    "fig.layout.height = '500px'\n",
    "fig.layout.width = '800px'\n",
    "fit = plt.plot(x1[0:250], y1[0:250], marker='circle', colors=['orange'], stroke_width=.5, opacities = [.5])\n",
    "fit = plt.plot(xfit2, function(xfit2, *popt1), colors=['green'])\n",
    "plt.xlabel('Arrival time (microseconds)')\n",
    "plt.ylabel('Total count from data set')\n",
    "plt.title('Total count vs. Arrival time')\n",
    "plt.show()\n",
    "\n",
    "print(\"The corresponding mass peak is at {:5.5} microseconds\".format(popt1[0]))"
   ]
  },
  {
   "cell_type": "markdown",
   "metadata": {},
   "source": [
    "## Other peaks\n",
    "\n",
    "We repeated the above process to produce the data for both peaks.\n",
    "\n",
    "| Peaks  | $\\omega$ (khz) | $\\mu$ s |\n",
    "|--------|----------|---------|\n",
    "| Peak 1 | 119.50   | 7.57 |\n",
    "| Peak 2 | 59.08    | 7.57 |\n",
    "\n",
    "\n",
    "\n",
    "| <img src=\"images/58khz.png\" style=\"width: 600px;\">|\n",
    "|----------------------------------------------------------------------------|\n",
    "| Fig. 8  First peak fit (59.08 khz) |\n",
    "\n",
    "| <img src=\"images/119khz.png\" style=\"width: 600px;\">|\n",
    "|----------------------------------------------------------------------------|\n",
    "| Fig. 9  Second peak fit (119.50 khz) |"
   ]
  },
  {
   "cell_type": "markdown",
   "metadata": {},
   "source": [
    "### Data Set 9 - Amplitude Sweep \n",
    "\n"
   ]
  },
  {
   "cell_type": "code",
   "execution_count": 31,
   "metadata": {},
   "outputs": [
    {
     "data": {
      "application/vnd.jupyter.widget-view+json": {
       "model_id": "8f9f9b6c35194828b6dd6286d018c859",
       "version_major": 2,
       "version_minor": 0
      },
      "text/plain": [
       "VBox(children=(Figure(axes=[Axis(label='Arrival time (microseconds)', scale=LinearScale()), Axis(label='Intens…"
      ]
     },
     "metadata": {},
     "output_type": "display_data"
    }
   ],
   "source": [
    "y1 = data9[data9.columns[0:-1]][:300].sum(axis=1).values\n",
    "x1 = np.multiply(range(0,len(y1)),0.1)\n",
    "\n",
    "selectPlot(x1[0:300], y1[0:300], 'orange', 'Arrival time (microseconds)', 'Intensity (int. counts)', '''Integration Interval Selector. Click and drag on the Figure to select window.''')"
   ]
  },
  {
   "cell_type": "code",
   "execution_count": 8,
   "metadata": {},
   "outputs": [
    {
     "name": "stdout",
     "output_type": "stream",
     "text": [
      "The range selected from above at the time of running the cell is : 68 to 85\n"
     ]
    }
   ],
   "source": [
    "indexrange = [np.min(scatter.selected), np.max(scatter.selected)]\n",
    "print('The range selected from above at the time of running the cell is : ' + str(indexrange[0]) + ' to ' + str(indexrange[1]))\n",
    "row, col = data9.shape\n",
    "y2 = [data9[i][indexrange[0]:indexrange[1]].sum() for i in range(0,89)]"
   ]
  },
  {
   "cell_type": "code",
   "execution_count": 10,
   "metadata": {},
   "outputs": [
    {
     "name": "stdout",
     "output_type": "stream",
     "text": [
      "The range selected from above at the time of running the cell is : 87 to 101\n"
     ]
    }
   ],
   "source": [
    "indexrange = [np.min(scatter.selected), np.max(scatter.selected)]\n",
    "print('The range selected from above at the time of running the cell is : ' + str(indexrange[0]) + ' to ' + str(indexrange[1]))\n",
    "y3 = [data9[i][indexrange[0]:indexrange[1]].sum() for i in range(0,89)]"
   ]
  },
  {
   "cell_type": "code",
   "execution_count": 11,
   "metadata": {},
   "outputs": [
    {
     "name": "stdout",
     "output_type": "stream",
     "text": [
      "The range selected from above at the time of running the cell is : 107 to 117\n"
     ]
    }
   ],
   "source": [
    "indexrange = [np.min(scatter.selected), np.max(scatter.selected)]\n",
    "print('The range selected from above at the time of running the cell is : ' + str(indexrange[0]) + ' to ' + str(indexrange[1]))\n",
    "y4 = [data9[i][indexrange[0]:indexrange[1]].sum() for i in range(0,89)]"
   ]
  },
  {
   "cell_type": "code",
   "execution_count": 12,
   "metadata": {},
   "outputs": [
    {
     "name": "stdout",
     "output_type": "stream",
     "text": [
      "The range selected from above at the time of running the cell is : 110 to 120\n"
     ]
    }
   ],
   "source": [
    "indexrange = [np.min(scatter.selected), np.max(scatter.selected)]\n",
    "print('The range selected from above at the time of running the cell is : ' + str(indexrange[0]) + ' to ' + str(indexrange[1]))\n",
    "y5 = [data9[i][indexrange[0]:indexrange[1]].sum() for i in range(0,89)]"
   ]
  },
  {
   "cell_type": "code",
   "execution_count": 13,
   "metadata": {},
   "outputs": [
    {
     "data": {
      "application/vnd.jupyter.widget-view+json": {
       "model_id": "f128206cfdea43feb2db21502ba39ea8",
       "version_major": 2,
       "version_minor": 0
      },
      "text/plain": [
       "VBox(children=(Figure(axes=[Axis(label='Confinement Amplitude (V)', scale=LinearScale()), Axis(label='Total co…"
      ]
     },
     "metadata": {},
     "output_type": "display_data"
    }
   ],
   "source": [
    "x2 = np.linspace(0.1,8,89)\n",
    "\n",
    "fig = plt.figure()\n",
    "fig.layout.height = '500px'\n",
    "fig.layout.width = '800px'\n",
    "fit = plt.plot(x2, y2, marker='circle', colors=['red'], stroke_width=.5, opacities = [.5])\n",
    "fit = plt.plot(x2, y3, marker='circle', colors=['blue'], stroke_width=.5, opacities = [.5])\n",
    "fit = plt.plot(x2, y4, marker='circle', colors=['green'], stroke_width=.5, opacities = [.5])\n",
    "fit = plt.plot(x2, y5, marker='circle', colors=['orange'], stroke_width=.5, opacities = [.5])\n",
    "plt.xlabel('Confinement Amplitude (V)')\n",
    "plt.ylabel('Total count at fixed drive amplitude')\n",
    "plt.title('Confinement voltage sweep')\n",
    "plt.show()"
   ]
  },
  {
   "cell_type": "markdown",
   "metadata": {},
   "source": [
    "The four colored plots above corospond to the 4 intervals below:\n",
    "\n",
    "| <img src=\"images/peaks.png\" style=\"width: 600px;\">|\n",
    "|----------------------------------------------------------------------------|\n",
    "| Fig. 10 Arrival time plot for 4 intervals |"
   ]
  },
  {
   "cell_type": "markdown",
   "metadata": {},
   "source": [
    "### Voltage Calibration \n",
    "\n",
    "While we recorded the applied confinement amplitude, the signal goes through an amplifier. We need to convert the applied voltage. "
   ]
  },
  {
   "cell_type": "code",
   "execution_count": 14,
   "metadata": {},
   "outputs": [
    {
     "data": {
      "application/vnd.jupyter.widget-view+json": {
       "model_id": "aefd3d4f82984c84b5fd5e7426301865",
       "version_major": 2,
       "version_minor": 0
      },
      "text/plain": [
       "VBox(children=(Figure(axes=[Axis(label='Confinement Amplitude (V)', scale=LinearScale()), Axis(label='Total co…"
      ]
     },
     "metadata": {},
     "output_type": "display_data"
    }
   ],
   "source": [
    "vin = [0.1, 1, 2, 3, 4, 5, 6, 7, 8, 9]\n",
    "vout = [0.5, 6.5, 11, 14.9, 20, 25, 28.5, 30, 31, 32.5]\n",
    "\n",
    "fig = plt.figure()\n",
    "fig.layout.height = '500px'\n",
    "fig.layout.width = '800px'\n",
    "fit = plt.plot(vin, vout, marker='triangle-up', colors=['red'], stroke_width=.5, opacities = [.5])\n",
    "plt.xlabel('Confinement Amplitude (V)')\n",
    "plt.ylabel('Total count at fixed drive amplitude')\n",
    "plt.title('Confinement voltage sweep')\n",
    "plt.show()\n",
    "\n",
    "def convertV(v):\n",
    "    \"\"\"Converts the applied voltage to the voltage seen after the amplifier.\"\"\"\n",
    "    return np.interp(v, vin, vout)"
   ]
  },
  {
   "cell_type": "markdown",
   "metadata": {},
   "source": [
    "Now we can plot the converted amplitude."
   ]
  },
  {
   "cell_type": "code",
   "execution_count": 15,
   "metadata": {},
   "outputs": [
    {
     "data": {
      "application/vnd.jupyter.widget-view+json": {
       "model_id": "c37080a562e241aaa8717f76a03f87d5",
       "version_major": 2,
       "version_minor": 0
      },
      "text/plain": [
       "VBox(children=(Figure(axes=[Axis(label='Confinement Amplitude (V)', scale=LinearScale()), Axis(label='Total co…"
      ]
     },
     "metadata": {},
     "output_type": "display_data"
    }
   ],
   "source": [
    "# converting the x-axis\n",
    "xnew = convertV(x2)\n",
    "\n",
    "# re-plotting the graph\n",
    "fig = plt.figure()\n",
    "fig.layout.height = '500px'\n",
    "fig.layout.width = '800px'\n",
    "fit = plt.plot(xnew, y2, marker='circle', colors=['red'], stroke_width=.5, opacities = [.5])\n",
    "fit = plt.plot(xnew, y3, marker='circle', colors=['blue'], stroke_width=.5, opacities = [.5])\n",
    "fit = plt.plot(xnew, y4, marker='circle', colors=['green'], stroke_width=.5, opacities = [.5])\n",
    "fit = plt.plot(xnew, y5, marker='circle', colors=['orange'], stroke_width=.5, opacities = [.5])\n",
    "plt.xlabel('Confinement Amplitude (V)')\n",
    "plt.ylabel('Total count at fixed drive amplitude')\n",
    "plt.title('Corrected Confinement voltage sweep')\n",
    "plt.show()"
   ]
  },
  {
   "cell_type": "markdown",
   "metadata": {},
   "source": [
    "### Mass Conversion (DS5)\n",
    "\n",
    "Since this data contains multipule species we can use a simple method to check the possible masses. If we expect the largest inital signal to be from nitrogen (first peak), we can check our expectations for the later peaks.\n",
    "\n",
    "| Peaks  | $\\mu$ s | closest mass | Expected Value  | $\\delta$  |\n",
    "|--------|----------|---------|---------|---------|\n",
    "| Peak 1 | 9.205 | nitrogen | 9.205 | 0 |\n",
    "| Peak 2 | 10.45 | oxygen | 10.55 | 0.1 |\n",
    "| Peak 3 | 12.41 | 18-19 AMU | ??? | ??? |\n",
    "\n",
    "The signal from the third peak is likely a mesh of signals from several species. But the ratios for nitrogen and oxygen seem good. We can further compare the data peaks using the Mathieu stability diagrams.\n",
    "\n",
    "| <img src=\"images/stability.png\" style=\"width: 600px;\">|\n",
    "|----------------------------------------------------------------------------|\n",
    "| Fig. 11 Mathieu Stability Diagram for Nitrogen |\n",
    "\n",
    "| Peaks  | $\\omega$ (khz) | Expected Value  | $\\delta$  |\n",
    "|--------|----------|---------|---------|\n",
    "| Peak 1 | 100.6 | 89.90 | 10.7 |\n",
    "| Peak 2 | 72.6 | 77.2 | 5.4 |\n",
    "\n",
    "The results of this dataset aren't clear, but it was a small sample and there were many species. Let's examine dataset 12, which should better adress this issue. \n",
    "\n",
    "\n",
    "### Mass Conversion (DS12)\n",
    "\n",
    "| <img src=\"images/stabilitydata12.png\" style=\"width: 600px;\">|\n",
    "|----------------------------------------------------------------------------|\n",
    "| Fig. 12 Mathieu Stability Diagram for Nitrogen |\n",
    "\n",
    "\n",
    "| Peaks  | $\\omega$ (khz) | $\\mu$ s | Expected Value  | $\\delta$  |\n",
    "|--------|----------|---------|---------|---------|\n",
    "| Peak 1 | 119.50 | 7.57 | 119.00 | 0.5 |\n",
    "| Peak 2 | 59.08 | 7.57 | 55.38 | 3.7 |\n",
    "\n",
    "As you can see, not only did we find the $z_{sec}$ resonance for nitrogen, we see the $r_{sec}$ one and higher order modes in the data set. Tuning the cavity and larger statistics helped a great deal. We can also look at the final method to assess mass.\n",
    "\n",
    "\n",
    "### Mass Conversion (DS9)\n",
    "\n",
    "| <img src=\"images/peaks.png\" style=\"width: 600px;\">|\n",
    "|----------------------------------------------------------------------------|\n",
    "| Fig. 13 Arrival time plot for 4 intervals |\n",
    "\n",
    "| <img src=\"images/Vsweep.png\" style=\"width: 600px;\">|\n",
    "|----------------------------------------------------------------------------|\n",
    "| Fig. 14 Voltage vs. count for the 4 intervals |\n",
    "\n",
    "From fig 13 and fig 14, we are farily confident the first peak is nitrogen in the data set. Tracking the red line in the corrected confinement voltage sweep suggests that around 22V amplitude we see a dropoff in nitrogen gas. Unfortunately, this isn't reflected by the Mathieu stability chart. \n",
    "\n",
    "\n",
    "| <img src=\"images/stabilitydata9.png\" style=\"width: 600px;\">|\n",
    "|----------------------------------------------------------------------------|\n",
    "| Fig. 15 Mathieu Stability Diagram for Nitrogen (@22V V_rf) |\n",
    "\n",
    "\n",
    "It seems like the signal of DS9 was reasonably well defined, but we weren't able to related it to the diagrams in the end. "
   ]
  },
  {
   "cell_type": "markdown",
   "metadata": {},
   "source": [
    "## Discussion and Conclusion\n",
    "***\n",
    "As expected, the nitrogen signal was very strong and with more statistics it might be possible to clarify the issues with dataset5. We expect that much of the problem was overlapping peaks which could not be discriminated using the resolution of the detector. We very accuratly measured the resonant frequencies of nitrogen of $119.50 khz$ and $59.08 khz$ and managed to identify both nitrogen and oxygen in the dataset. "
   ]
  },
  {
   "cell_type": "markdown",
   "metadata": {},
   "source": [
    "## References\n",
    "\n",
    "[1] Werth, G., Gheorghe, V. N. and Major, F. G., ‘Charged Particle Traps II: Applications ‘, Springer, Berlin, (2009), p.4."
   ]
  }
 ],
 "metadata": {
  "kernelspec": {
   "display_name": "Python 3",
   "language": "python",
   "name": "python3"
  },
  "language_info": {
   "codemirror_mode": {
    "name": "ipython",
    "version": 3
   },
   "file_extension": ".py",
   "mimetype": "text/x-python",
   "name": "python",
   "nbconvert_exporter": "python",
   "pygments_lexer": "ipython3",
   "version": "3.6.6"
  }
 },
 "nbformat": 4,
 "nbformat_minor": 2
}
